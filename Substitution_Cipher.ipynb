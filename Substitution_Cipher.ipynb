{
  "nbformat": 4,
  "nbformat_minor": 0,
  "metadata": {
    "colab": {
      "name": "Substitution Cipher.ipynb",
      "provenance": []
    },
    "kernelspec": {
      "name": "python3",
      "display_name": "Python 3"
    }
  },
  "cells": [
    {
      "cell_type": "markdown",
      "metadata": {
        "id": "cuuzzIugIFiK",
        "colab_type": "text"
      },
      "source": [
        "# **Substition Cipher**\n",
        "---\n",
        "Cipher based upon assigning each letter another unique letter. The new letter assignments are the key for the cipher\n"
      ]
    },
    {
      "cell_type": "code",
      "metadata": {
        "id": "ixBHG8UsG9iu",
        "colab_type": "code",
        "colab": {}
      },
      "source": [
        "import math\n",
        "import random"
      ],
      "execution_count": 8,
      "outputs": []
    },
    {
      "cell_type": "code",
      "metadata": {
        "id": "SDVW7lY4F95A",
        "colab_type": "code",
        "colab": {}
      },
      "source": [
        "symbols = \"abcdefghijklmnopqrstuvwxyzABCDEFGHIJKLMNOPQRSTUVWXYZ1234567890.?! \"\n",
        "\n",
        "def keygen():\n",
        "  key = list(symbols)\n",
        "  random.shuffle(key)\n",
        "  key = ''.join(key)\n",
        "  print(\"Your Randomly Generated Key: \" + key)\n",
        "  return key\n",
        "\n",
        "def encrypt(data, key):\n",
        "  data = list(data)\n",
        "  key = list(key)\n",
        "  \n",
        "  for x in range (0, len(data)):\n",
        "    data[x] = key[symbols.index(data[x])]\n",
        "\n",
        "  data = ''.join(data)\n",
        "\n",
        "  return data\n",
        "\n",
        "def decrypt(data, key):\n",
        "  data = list(data)\n",
        "  key = list(key)\n",
        "  \n",
        "  for x in range (0, len(data)):\n",
        "    try:\n",
        "      data[x] = symbols[key.index(data[x])]\n",
        "    except:\n",
        "      print(\"Malformed Key!\")\n",
        "      return 0\n",
        "\n",
        "  data = ''.join(data)\n",
        "\n",
        "  return data\n",
        "\n",
        "  \n"
      ],
      "execution_count": 24,
      "outputs": []
    },
    {
      "cell_type": "code",
      "metadata": {
        "id": "sQq1zJkjIFKP",
        "colab_type": "code",
        "colab": {
          "base_uri": "https://localhost:8080/",
          "height": 103
        },
        "outputId": "b12881af-1c51-4749-9de1-28f8076695da"
      },
      "source": [
        "secret_text = input(\"Enter Secret: \")\n",
        "key = keygen()\n",
        "encrypted_string = encrypt(secret_text, key)\n",
        "print(\"Encrypted String: \" + encrypted_string)\n",
        "decryption_key = input(\"Enter Key: \")\n",
        "decrypted_string = decrypt(encrypted_string, decryption_key)\n",
        "print(decrypted_string)"
      ],
      "execution_count": 26,
      "outputs": [
        {
          "output_type": "stream",
          "text": [
            "Enter Secret: The Quick Brown Fox Jumped Over The Lazy Dog!\n",
            "Your Randomly Generated Key: oxQg0AS3rvfZTwtO2ainNCy47zJG!PqR6bcpF.XLIWseD8hmUM5u1EdVHBklYK?j 9\n",
            "Encrypted String: 8309sNrQf9Gatyw9Rt49pNTO0g9IC0a98309.oz79PtS \n",
            "Enter Key: oxQg0AS3rvfZTwtO2ainNCy47zJG!PqR6bcpF.XLIWseD8hmUM5u1EdVHBklYK?j 9\n",
            "The Quick Brown Fox Jumped Over The Lazy Dog!\n"
          ],
          "name": "stdout"
        }
      ]
    }
  ]
}