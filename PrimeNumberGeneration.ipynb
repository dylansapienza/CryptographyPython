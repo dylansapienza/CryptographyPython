{
  "nbformat": 4,
  "nbformat_minor": 0,
  "metadata": {
    "colab": {
      "name": "PrimeNumberGeneration.ipynb",
      "provenance": []
    },
    "kernelspec": {
      "name": "python3",
      "display_name": "Python 3"
    }
  },
  "cells": [
    {
      "cell_type": "markdown",
      "metadata": {
        "id": "tWq0-byfO6PH",
        "colab_type": "text"
      },
      "source": [
        "# **Prime Number Generation**\n",
        "\n",
        "---\n",
        "\n",
        "A program that generates very large prime numbers. This is necessary for conducting public key encryptions that I will be doing next.\n",
        "\n",
        "isPrimeTrialDiv() uses the trial division algorithm to return True if the number passed to it is prime or False if the number passed to it is not prime.\n",
        "\n",
        "primeSieve() uses the sieve of Eratosthenes algorithm to generate prime numbers.\n",
        "\n",
        "rabinMiller() uses the Rabin-Miller algorithm to check whether the number passed to it is prime. This algorithm, unlike the trial division algorithm, can work quickly on very large numbers. This function is called not directly but rather by isPrime().\n",
        "\n",
        "isPrime() is called when the user must determine whether a large integer is prime or not.\n",
        "\n",
        "\n",
        "*Made Following Al Sweigart's [Cracking Codes With Python](https://inventwithpython.com/cracking/chapter22.html)*\n"
      ]
    },
    {
      "cell_type": "code",
      "metadata": {
        "id": "G5A4JkXO9TQj",
        "colab_type": "code",
        "colab": {}
      },
      "source": [
        "import math\n",
        "import random\n",
        "\n",
        "def isPrimeTrialDiv(num):\n",
        "  if num < 2:\n",
        "    return False\n",
        "  \n",
        "  for x in range(2, int(math.sqrt(num)) + 1):\n",
        "    if num % x == 0:\n",
        "      return False\n",
        "  return True"
      ],
      "execution_count": 4,
      "outputs": []
    },
    {
      "cell_type": "code",
      "metadata": {
        "id": "IaqeW5rsJ1Y9",
        "colab_type": "code",
        "colab": {
          "base_uri": "https://localhost:8080/",
          "height": 35
        },
        "outputId": "0f977ef7-fac9-44ac-9825-3a4d516be177"
      },
      "source": [
        "num = 3314192745739\n",
        "\n",
        "if isPrimeTrialDiv(num):\n",
        "  print(num, \" is a prime\")\n",
        "else:\n",
        "  print(num, \" is not a prime\")"
      ],
      "execution_count": 5,
      "outputs": [
        {
          "output_type": "stream",
          "text": [
            "3314192745739  is a prime\n"
          ],
          "name": "stdout"
        }
      ]
    },
    {
      "cell_type": "code",
      "metadata": {
        "id": "swIXkUbwLM3g",
        "colab_type": "code",
        "colab": {}
      },
      "source": [
        "def primeSieve(sieveSize):\n",
        "  sieve = [True] * sieveSize\n",
        "  sieve[0] = False\n",
        "  sieve[1] = False\n",
        "  for i in range(2, int(math.sqrt(sieveSize)) + 1):\n",
        "    pointer = i * 2\n",
        "    while pointer < sieveSize:\n",
        "      sieve[pointer] = False\n",
        "      pointer += i\n",
        "     # Compile the list of primes:\n",
        "  primes = []\n",
        "  for i in range(sieveSize):\n",
        "    if sieve[i] == True:\n",
        "      primes.append(i)\n",
        "       \n",
        "  return primes\n",
        "\n",
        "def rabinMiller(num):\n",
        "  if num % 2 == 0 or num < 2:\n",
        "    return False\n",
        "  \n",
        "  if num == 3:\n",
        "    return True\n",
        "\n",
        "  s = num - 1\n",
        "  t = 0\n",
        "\n",
        "  while s % 2 == 0:\n",
        "\n",
        "    s = s // 2\n",
        "    t += 1\n",
        "\n",
        "  for trials in range(5):\n",
        "    a = random.randrange(2, num-1)\n",
        "    v = pow(a, s, num)\n",
        "    if v != 1:\n",
        "      i = 0\n",
        "      while v!= (num - 1):\n",
        "        if i == t - 1:\n",
        "          return False\n",
        "        else:\n",
        "          i = i + 1\n",
        "          v = (v ** 2) % num\n",
        "\n",
        "  return True"
      ],
      "execution_count": 6,
      "outputs": []
    },
    {
      "cell_type": "code",
      "metadata": {
        "id": "zqphE33lMFbh",
        "colab_type": "code",
        "colab": {
          "base_uri": "https://localhost:8080/",
          "height": 35
        },
        "outputId": "f9200e42-a76e-4201-bb99-933f181eef2c"
      },
      "source": [
        "print(primeSieve(5))\n",
        "LOW_PRIMES = primeSieve(100)"
      ],
      "execution_count": 7,
      "outputs": [
        {
          "output_type": "stream",
          "text": [
            "[2, 3]\n"
          ],
          "name": "stdout"
        }
      ]
    },
    {
      "cell_type": "code",
      "metadata": {
        "id": "T8WElfcjMv2O",
        "colab_type": "code",
        "colab": {}
      },
      "source": [
        "def isPrime(num):\n",
        "  if (num < 2):\n",
        "    return False\n",
        "\n",
        "  for prime in LOW_PRIMES:\n",
        "    if num == prime:\n",
        "      return True\n",
        "    if num % prime == 0:\n",
        "      return False\n",
        "    \n",
        "  return rabinMiller(num)"
      ],
      "execution_count": 8,
      "outputs": []
    },
    {
      "cell_type": "code",
      "metadata": {
        "id": "dKZXDhv5GZ0o",
        "colab_type": "code",
        "colab": {}
      },
      "source": [
        "def generateLargePrime(keysize):\n",
        "  while True:\n",
        "    num = random.randrange(2 ** (keysize - 1), 2 ** (keysize))\n",
        "    if isPrime(num):\n",
        "      return num"
      ],
      "execution_count": 12,
      "outputs": []
    },
    {
      "cell_type": "code",
      "metadata": {
        "id": "vrex31w-GuzW",
        "colab_type": "code",
        "colab": {
          "base_uri": "https://localhost:8080/",
          "height": 55
        },
        "outputId": "e187a263-99e0-474c-b636-4a4872019c3d"
      },
      "source": [
        "print(generateLargePrime(1024))"
      ],
      "execution_count": 18,
      "outputs": [
        {
          "output_type": "stream",
          "text": [
            "110322440474121523909832576168693482398994949587424197474515137284900903791429333296109397820249365474926045579842707530717806177021889341231106453249835810206802682195722961127145400321895911281433100999760194150763642571356184330983956577771828489984285492315358114543649560777219432961909251166268456540199\n"
          ],
          "name": "stdout"
        }
      ]
    }
  ]
}