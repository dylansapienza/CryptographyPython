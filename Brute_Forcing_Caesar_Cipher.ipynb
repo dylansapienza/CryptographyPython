{
  "nbformat": 4,
  "nbformat_minor": 0,
  "metadata": {
    "colab": {
      "name": "Brute-Forcing Caesar Cipher",
      "provenance": [],
      "collapsed_sections": [],
      "toc_visible": true
    },
    "kernelspec": {
      "name": "python3",
      "display_name": "Python 3"
    }
  },
  "cells": [
    {
      "cell_type": "markdown",
      "metadata": {
        "id": "MeWoa8Q-X2T8",
        "colab_type": "text"
      },
      "source": [
        "# **Cracking the Caesar Cipher**\n",
        "\n",
        "Using brute-force techniques, I am going to crack my previously implementation fo the caesar cipher."
      ]
    },
    {
      "cell_type": "code",
      "metadata": {
        "id": "5qCl5aHxXvOR",
        "colab_type": "code",
        "colab": {}
      },
      "source": [
        "symbols = list(\"abcdefghijklmnopqrstuvwxyz0123456789.,!? \")\n",
        "\n",
        "#convert all uppercase letters into lowercase\n",
        "def clean_data(data):\n",
        "  return data.casefold()\n",
        "\n",
        "def shift(data, key):\n",
        "  if(key > 40):\n",
        "    key = key % 40\n",
        "  encrypted_data = \"\"\n",
        "  data = clean_data(data)\n",
        "  data = list(data)\n",
        "  for x in range(0, len(data)):\n",
        "    if (symbols.index(data[x]) + key) < len(symbols):\n",
        "      encrypted_data += symbols[symbols.index(data[x]) + key]\n",
        "    else:\n",
        "      encrypted_data += symbols[symbols.index(data[x]) + key - len(symbols)]\n",
        "  return encrypted_data\n",
        "\n",
        "def unshift(data, key):\n",
        "  if(key > 40):\n",
        "    key = key % 40\n",
        "  decrypted_data = \"\"\n",
        "  data = list(data)\n",
        "  for x in range(0, len(data)):\n",
        "    if (symbols.index(data[x]) - key) < 0:\n",
        "      underflow = key - symbols.index(data[x])\n",
        "      decrypted_data += symbols[len(symbols) - underflow]\n",
        "    else:\n",
        "      decrypted_data += symbols[symbols.index(data[x]) - key]\n",
        "  return decrypted_data"
      ],
      "execution_count": 2,
      "outputs": []
    },
    {
      "cell_type": "code",
      "metadata": {
        "id": "dnlneRA9YQbG",
        "colab_type": "code",
        "colab": {}
      },
      "source": [
        "def brute_force(data):\n",
        "  for x in range(1, len(symbols)):\n",
        "    print(unshift(data, x))"
      ],
      "execution_count": 3,
      "outputs": []
    },
    {
      "cell_type": "code",
      "metadata": {
        "id": "OF3xFy3xYFjF",
        "colab_type": "code",
        "colab": {
          "base_uri": "https://localhost:8080/",
          "height": 707
        },
        "outputId": "f495c133-98d7-4759-ad8b-d31d6633833e"
      },
      "source": [
        "encrypted_data = \"1pmhy2qkshjzw4vhnw5hr2uxmlhw3mzh1pmhti76hlwof\"\n",
        "\n",
        "#Returns all possible arrangments of the cipher.\n",
        "brute_force(encrypted_data)"
      ],
      "execution_count": 4,
      "outputs": [
        {
          "output_type": "stream",
          "text": [
            "0olgx1pjrgiyv3ugmv4gq1twlkgv2lyg0olgsh65gkvne\n",
            "znkfw0oiqfhxu2tflu3fp0svkjfu1kxfznkfrg54fjumd\n",
            "ymjevznhpegwt1sekt2eozrujiet0jweymjeqf43eitlc\n",
            "xliduymgodfvs0rdjs1dnyqtihdszivdxlidpe32dhskb\n",
            "wkhctxlfnceurzqcir0cmxpshgcryhucwkhcod21cgrja\n",
            "vjgbswkembdtqypbhqzblworgfbqxgtbvjgbnc10bfqi \n",
            "uifarvjdlacspxoagpyakvnqfeapwfsauifamb0zaeph?\n",
            "the quick brown fox jumped over the lazy dog!\n",
            "sgd?pthbj?aqnvm?enw?itlodc?nudq?sgd?k yx?cnf,\n",
            "rfc!osgai! pmul!dmv!hskncb!mtcp!rfc!j?xw!bme.\n",
            "qeb,nrf h,?oltk,clu,grjmba,lsbo,qeb,i!wv,ald9\n",
            "pda.mqe?g.!nksj.bkt.fqila .kran.pda.h,vu. kc8\n",
            "oc 9lpd!f9,mjri9ajs9ephk ?9jq m9oc 9g.ut9?jb7\n",
            "nb?8koc,e8.liqh8 ir8dogj?!8ip?l8nb?8f9ts8!ia6\n",
            "ma!7jnb.d79khpg7?hq7cnfi!,7ho!k7ma!7e8sr7,h 5\n",
            "l ,6ima9c68jgof6!gp6bmeh,.6gn,j6l ,6d7rq6.g?4\n",
            "k?.5hl 8b57ifne5,fo5aldg.95fm.i5k?.5c6qp59f!3\n",
            "j!94gk?7a46hemd4.en4 kcf984el9h4j!94b5po48e,2\n",
            "i,83fj!6 35gdlc39dm3?jbe873dk8g3i,83a4on37d.1\n",
            "h.72ei,5?24fckb28cl2!iad762cj7f2h.72 3nm26c90\n",
            "g961dh.4!13ebja17bk1,h c651bi6e1g961?2ml15b8z\n",
            "f850cg93,02dai 06aj0.g?b540ah5d0f850!1lk04a7y\n",
            "e74zbf82.z1c h?z5 iz9f!a43z g4cze74z,0kjz3 6x\n",
            "d63yae719y0b?g!y4?hy8e, 32y?f3byd63y.zjiy2?5w\n",
            "c52x d608xza!f,x3!gx7d.?21x!e2axc52x9yihx1!4v\n",
            "b41w?c5z7wy ,e.w2,fw6c9!10w,d1 wb41w8xhgw0,3u\n",
            "a30v!b4y6vx?.d9v1.ev5b8,0zv.c0?va30v7wgfvz.2t\n",
            " 2zu,a3x5uw!9c8u09du4a7.zyu9bz!u 2zu6vfeuy91s\n",
            "?1yt. 2w4tv,8b7tz8ct3 69yxt8ay,t?1yt5uedtx80r\n",
            "!0xs9?1v3su.7a6sy7bs2?58xws7 x.s!0xs4tdcsw7zq\n",
            ",zwr8!0u2rt96 5rx6ar1!47wvr6?w9r,zwr3scbrv6yp\n",
            ".yvq7,zt1qs85?4qw5 q0,36vuq5!v8q.yvq2rbaqu5xo\n",
            "9xup6.ys0pr74!3pv4?pz.25utp4,u7p9xup1qa pt4wn\n",
            "8wto59xrzoq63,2ou3!oy914tso3.t6o8wto0p ?os3vm\n",
            "7vsn48wqynp52.1nt2,nx803srn29s5n7vsnzo?!nr2ul\n",
            "6urm37vpxmo4190ms1.mw7z2rqm18r4m6urmyn!,mq1tk\n",
            "5tql26uowln308zlr09lv6y1qpl07q3l5tqlxm,.lp0sj\n",
            "4spk15tnvkm2z7ykqz8ku5x0pokz6p2k4spkwl.9kozri\n",
            "3roj04smujl1y6xjpy7jt4wzonjy5o1j3rojvk98jnyqh\n",
            "2qniz3rltik0x5wiox6is3vynmix4n0i2qniuj87imxpg\n"
          ],
          "name": "stdout"
        }
      ]
    },
    {
      "cell_type": "code",
      "metadata": {
        "id": "vzeta18rY3qF",
        "colab_type": "code",
        "colab": {}
      },
      "source": [
        "#Try to filter out non-sense results\n",
        "def load_words():\n",
        "    with open('usa.txt') as word_file:\n",
        "        valid_words = set(word_file.read().split())\n",
        "\n",
        "    return valid_words"
      ],
      "execution_count": 12,
      "outputs": []
    },
    {
      "cell_type": "code",
      "metadata": {
        "id": "6h0PWR0KaNas",
        "colab_type": "code",
        "colab": {}
      },
      "source": [
        "english_words = load_words()\n",
        "\n",
        "all_words = list(english_words)\n",
        "\n",
        "#scan for area until first space, if that area is a word\n",
        "#check next area OR just keep it.\n",
        "\n",
        "def remove_junk(data):\n",
        "  data = list(data)\n",
        "  first_word = \"\"\n",
        "  x = 0\n",
        "  while data[x] != \" \" and x < (len(data)- 1):\n",
        "    first_word += data[x]\n",
        "    x += 1\n",
        "  if first_word in all_words:\n",
        "    print(''.join(data))\n",
        "    "
      ],
      "execution_count": 51,
      "outputs": []
    },
    {
      "cell_type": "markdown",
      "metadata": {
        "id": "flMXRU2ldMR0",
        "colab_type": "text"
      },
      "source": [
        ""
      ]
    },
    {
      "cell_type": "code",
      "metadata": {
        "id": "0gWuMqGJdNHN",
        "colab_type": "code",
        "colab": {}
      },
      "source": [
        "def smart_brute_force(data):\n",
        "  for x in range(1, len(symbols)):\n",
        "    remove_junk((unshift(data, x)))"
      ],
      "execution_count": 52,
      "outputs": []
    },
    {
      "cell_type": "code",
      "metadata": {
        "id": "cA9L1Xqjdcls",
        "colab_type": "code",
        "colab": {
          "base_uri": "https://localhost:8080/",
          "height": 51
        },
        "outputId": "63fe03d9-5f68-4f45-8702-6a1e51657732"
      },
      "source": [
        "encrypted_data = \"1pmhy2qkshjzw4vhnw5hr2uxmlhw3mzh1pmhti76hlwof\"\n",
        "\n",
        "smart_brute_force(encrypted_data)"
      ],
      "execution_count": 53,
      "outputs": [
        {
          "output_type": "stream",
          "text": [
            "the quick brown fox jumped over the lazy dog!\n",
            "l ,6ima9c68jgof6!gp6bmeh,.6gn,j6l ,6d7rq6.g?4\n"
          ],
          "name": "stdout"
        }
      ]
    }
  ]
}