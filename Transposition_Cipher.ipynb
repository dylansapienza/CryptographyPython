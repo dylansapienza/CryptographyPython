{
  "nbformat": 4,
  "nbformat_minor": 0,
  "metadata": {
    "colab": {
      "name": "Transposition_Cipher.ipynb",
      "provenance": []
    },
    "kernelspec": {
      "name": "python3",
      "display_name": "Python 3"
    }
  },
  "cells": [
    {
      "cell_type": "markdown",
      "metadata": {
        "id": "2VCDm8OTnnct",
        "colab_type": "text"
      },
      "source": [
        "# **Transposition Cipher**\n",
        "\n",
        "Better than Caesar Cipher, I am going to implement a columnar transposition and the Myszkowski Transposition cipher.\n"
      ]
    },
    {
      "cell_type": "code",
      "metadata": {
        "id": "XvLFYb0VWsAh",
        "colab_type": "code",
        "colab": {}
      },
      "source": [
        "import numpy as np\n",
        "import math\n",
        "import random\n",
        "import string"
      ],
      "execution_count": 3,
      "outputs": []
    },
    {
      "cell_type": "code",
      "metadata": {
        "id": "Pgwa9YxI9aHg",
        "colab_type": "code",
        "colab": {}
      },
      "source": [
        "def transposition(data, key):\n",
        "  data = list(data)\n",
        "  rows = math.ceil(len(data) / key)\n",
        "  array = np.full((rows, key), 'e')\n",
        "  index = 0\n",
        "  for i in range(0, key):\n",
        "    for x in range(0, rows):\n",
        "      if index >= len(data):\n",
        "        array[x, i] = random.choice(string.ascii_letters)\n",
        "      else:\n",
        "        array[x, i] = data[index]\n",
        "        index += 1\n",
        "\n",
        "  return array\n"
      ],
      "execution_count": 4,
      "outputs": []
    },
    {
      "cell_type": "code",
      "metadata": {
        "id": "ALSQGgqKGI_0",
        "colab_type": "code",
        "colab": {}
      },
      "source": [
        "def decryption(data, key):\n",
        "  data = list(data)\n",
        "  rows = math.ceil(len(data) / key)\n",
        "  array = np.full((rows, key), 'e')\n",
        "  index = 0\n",
        "  for i in range(0, rows):\n",
        "    for x in range(0, key):\n",
        "      if index >= len(data):\n",
        "        array[i, x] = random.choice(string.ascii_letters)\n",
        "      else:\n",
        "        array[i, x] = data[index]\n",
        "        index += 1\n",
        "\n",
        "  return array\n",
        "\n",
        "def decrypted_array_to_string(data):\n",
        "  data = np.asarray(data)\n",
        "  decrypted_string = \"\"\n",
        "  array_dim = data.shape\n",
        "  rows = array_dim[0]\n",
        "  cols = array_dim[1]\n",
        "  for i in range(0, key):\n",
        "    for x in range(0, rows):\n",
        "      decrypted_string += data[x,i]\n",
        "\n",
        "  print(decrypted_string)"
      ],
      "execution_count": 26,
      "outputs": []
    },
    {
      "cell_type": "code",
      "metadata": {
        "id": "sKmHRVIMonan",
        "colab_type": "code",
        "colab": {
          "base_uri": "https://localhost:8080/",
          "height": 140
        },
        "outputId": "abdc9567-af9c-429a-a2b3-5437f90fe87e"
      },
      "source": [
        "data = input(\"Enter Secret: \")\n",
        "encrypted_text = \"\"\n",
        "print(\"Key must be between 2 and \" + str(math.floor(len(data) / 2)) )\n",
        "key = int(input(\"Enter Key: \"))\n",
        "while key < 2 or key > len(data) / 2:\n",
        "  key = int(input(\"Out of Bounds, Try Again: \"))\n",
        "data_array = transposition(data, key)\n",
        "for x in range(0,math.ceil(len(data) / key)):\n",
        "  encrypted_text +=''.join(data_array[x])\n",
        "\n",
        "print(encrypted_text)\n",
        "decryption_key = int(input(\"Enter Key: \"))\n",
        "if decryption_key < 2 or decryption_key > (len(encrypted_text) / 2):\n",
        "  print(\"Incorrect Key\")\n",
        "else:\n",
        "  decrypted_array = decryption(encrypted_text, decryption_key)\n",
        "  decrypted_array_to_string(decrypted_array)\n"
      ],
      "execution_count": 31,
      "outputs": [
        {
          "output_type": "stream",
          "text": [
            "Enter Secret: We have access to only the world of our ideas; things in the world are accessed only indirectly. These ideas are understood to include all of the contents of the mind, including perceptions, images, memories, concepts, beliefs, intentions, decisions, etc. Ideas and the things they represent are separate from each other. These represented things are many times \"external\" to the mind. It is possible for these ideas to constitute either accurate or false representations.\n",
            "Key must be between 2 and 236\n",
            "Enter Key: 55\n",
            "Wcowo;ircnee r aesmlr, ,ssiit teeeroesimsaetitasiufrorXecnou nlclcsasil  iuc m ,,oscahynpotsena l  bhsttraenna elrrt deytertnlcondeiec  ni.ni tamhengn\"\"mile ihalssvihsyl ht s l eoc ofdipmmobiso dnr r e tsye isesttetse.Ikas diihasiyi olon ,ntaonen,nI geaaerre  xtn  eoureenbpwv t dneren.duduftt gigrclt sdtsprta.edattodpf  t   toMuethoeg edd en d ehi oeieied,eh reec p rie .ooiceaorarHM oefasw  iTadtetnenpnsepene aete  hTrtemrt srdo cretcmAa   s oaorhseo ht ces,stftces hssf heh enhIs enec piPhV\n",
            "Enter Key: 55\n",
            "We have access to only the world of our ideas; things in the world are accessed only indirectly. These ideas are understood to include all of the contents of the mind, including perceptions, images, memories, concepts, beliefs, intentions, decisions, etc. Ideas and the things they represent are separate from each other. These represented things are many times \"external\" to the mind. It is possible for these ideas to constitute either accurate or false representations.borcPrnvIpMHmhXaikwuMAV\n"
          ],
          "name": "stdout"
        }
      ]
    }
  ]
}