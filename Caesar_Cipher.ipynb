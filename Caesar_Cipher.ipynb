{
  "nbformat": 4,
  "nbformat_minor": 0,
  "metadata": {
    "colab": {
      "name": "Caesar Cipher",
      "provenance": [],
      "collapsed_sections": []
    },
    "kernelspec": {
      "name": "python3",
      "display_name": "Python 3"
    }
  },
  "cells": [
    {
      "cell_type": "markdown",
      "metadata": {
        "id": "euopvEgXOfo3",
        "colab_type": "text"
      },
      "source": [
        "# **Caesar Cipher**\n",
        "A form of encryption that shifts each character over a certain amount of spaces.\n",
        "The amount of space that is shifted over is considered the \"key\""
      ]
    },
    {
      "cell_type": "code",
      "metadata": {
        "id": "UDUOZekEKwWE",
        "colab_type": "code",
        "colab": {}
      },
      "source": [
        "symbols = list(\"abcdefghijklmnopqrstuvwxyz0123456789.,!? \")\n",
        "\n",
        "#convert all uppercase letters into lowercase\n",
        "def clean_data(data):\n",
        "  return data.casefold()\n",
        "\n",
        "def shift(data, key):\n",
        "  if(key > 40):\n",
        "    key = key % 40\n",
        "  encrypted_data = \"\"\n",
        "  data = clean_data(data)\n",
        "  data = list(data)\n",
        "  for x in range(0, len(data)):\n",
        "    if (symbols.index(data[x]) + key) < len(symbols):\n",
        "      encrypted_data += symbols[symbols.index(data[x]) + key]\n",
        "    else:\n",
        "      encrypted_data += symbols[symbols.index(data[x]) + key - len(symbols)]\n",
        "  return encrypted_data\n",
        "\n",
        "def unshift(data, key):\n",
        "  if(key > 40):\n",
        "    key = key % 40\n",
        "  decrypted_data = \"\"\n",
        "  data = list(data)\n",
        "  for x in range(0, len(data)):\n",
        "    if (symbols.index(data[x]) - key) < 0:\n",
        "      underflow = key - symbols.index(data[x])\n",
        "      decrypted_data += symbols[len(symbols) - underflow]\n",
        "    else:\n",
        "      decrypted_data += symbols[symbols.index(data[x]) - key]\n",
        "  return decrypted_data"
      ],
      "execution_count": 27,
      "outputs": []
    },
    {
      "cell_type": "code",
      "metadata": {
        "id": "aOKar_AeQG25",
        "colab_type": "code",
        "colab": {
          "base_uri": "https://localhost:8080/",
          "height": 120
        },
        "outputId": "97627a30-1641-49c7-8050-cbe005983016"
      },
      "source": [
        "data = input(\"Enter Secret: \")\n",
        "\n",
        "print(data)\n",
        "\n",
        "cipher = input(\"Enter Cipher Key: \")\n",
        "\n",
        "encrypted_data = shift(data, int(cipher))\n",
        "\n",
        "print(encrypted_data)\n",
        "\n",
        "key = input(\"Enter Decryption Key: \")\n",
        "\n",
        "print(unshift(encrypted_data, int(key)))\n",
        "\n"
      ],
      "execution_count": 29,
      "outputs": [
        {
          "output_type": "stream",
          "text": [
            "Enter Secret: The Quick Brown Fox Jumped Over The Lazy Dog!\n",
            "The Quick Brown Fox Jumped Over The Lazy Dog!\n",
            "Enter Cipher Key: 128\n",
            "1pmhy2qkshjzw4vhnw5hr2uxmlhw3mzh1pmhti76hlwof\n",
            "Enter Decryption Key: 128\n",
            "the quick brown fox jumped over the lazy dog!\n"
          ],
          "name": "stdout"
        }
      ]
    }
  ]
}