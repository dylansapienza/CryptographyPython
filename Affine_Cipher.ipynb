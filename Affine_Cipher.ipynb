{
  "nbformat": 4,
  "nbformat_minor": 0,
  "metadata": {
    "colab": {
      "name": "Affine Cipher",
      "provenance": []
    },
    "kernelspec": {
      "name": "python3",
      "display_name": "Python 3"
    }
  },
  "cells": [
    {
      "cell_type": "markdown",
      "metadata": {
        "id": "V6JltcVxFndT",
        "colab_type": "text"
      },
      "source": [
        "# **Affine Cipher**\n",
        "---\n",
        "Encryption that is based on assinging a number value to each possible character. With these number values we then preform a computation to yield a new number which maps to a different letter value. A and M must be coprimes.\n",
        "\\begin{equation*}\n",
        "m = length\\ of \\ character\\ space\n",
        "\\end{equation*}\n",
        "\\begin{equation*}\n",
        "(a,b) = keys \n",
        "\\end{equation*}\n",
        "\n",
        ">**The Encryption Function:** \n",
        "\\begin{equation*}\n",
        "E(x) = (ax+b)\\ mod\\ m\n",
        "\\end{equation*}\n",
        "\n",
        "\n",
        "\n",
        "> **The Decryption Function**\n",
        "\\begin{equation*}\n",
        "D(x) = a^{-1}(x-b)\\ mod\\ m\n",
        "\\end{equation*}\n",
        "\n",
        "\n",
        "\n",
        "\n",
        "\n",
        "\n",
        "\n",
        "\n",
        "\n",
        "\n",
        "\n",
        "\n"
      ]
    },
    {
      "cell_type": "code",
      "metadata": {
        "id": "veEhYUW90cBW",
        "colab_type": "code",
        "colab": {}
      },
      "source": [
        "import numpy as np\n",
        "import math\n",
        "symbols = \"abcdefghijklmnopqrstuvwxyzABCDEFGHIJKLMNOPQRSTUVWXYZ0123456789!?.,' \"\n",
        "#ord('a')\n",
        "#97\n",
        "#chr(104)\n",
        "#'h'"
      ],
      "execution_count": 16,
      "outputs": []
    },
    {
      "cell_type": "code",
      "metadata": {
        "id": "Hmlwy7fSFceg",
        "colab_type": "code",
        "colab": {}
      },
      "source": [
        "def gcd(a, m):\n",
        "  if a == 0 or m == 0:\n",
        "    return 0\n",
        "  if a == m:\n",
        "    return a\n",
        "  if a > m:\n",
        "    return gcd(a - m, m)\n",
        "  return gcd(a, m - a)\n",
        "\n",
        "def is_coprime(a, m):\n",
        "  if (gcd(a,m) == 1):\n",
        "    return True\n",
        "  else:\n",
        "    print(\"A is not Coprime with M\")\n",
        "    return False   "
      ],
      "execution_count": 1,
      "outputs": []
    },
    {
      "cell_type": "code",
      "metadata": {
        "id": "A7zda29PENOK",
        "colab_type": "code",
        "colab": {}
      },
      "source": [
        "#Coprime Testing\n",
        "a = int(input(\"Enter Value For A: \"))\n",
        "m = int(input(\"Enter Value For M: \"))\n",
        "\n",
        "print(is_coprime(a,m))\n"
      ],
      "execution_count": null,
      "outputs": []
    },
    {
      "cell_type": "code",
      "metadata": {
        "id": "GmLcxyuRE6f4",
        "colab_type": "code",
        "colab": {}
      },
      "source": [
        "def affine(data, a, b):\n",
        "  m = len(symbols)\n",
        "  data = list(data)\n",
        "  #Convert to Number Values 0..m-1\n",
        "  for x in range(0, len(data)):\n",
        "    data[x] = symbols.index(data[x])\n",
        "\n",
        "  #Encrypt\n",
        "  for x in range(0, len(data)):\n",
        "    data[x] = (a * (data[x]) + b) % m\n",
        "\n",
        "  #Convert Numbers to Letters\n",
        "  for x in range(0, len(data)):\n",
        "    data[x] = symbols[data[x]]\n",
        "  \n",
        "  return data\n",
        "\n",
        "def decrypt_affine(data , a, b):\n",
        "  m = len(symbols)\n",
        "  data = list(data)\n",
        "  \n",
        "  print(data)\n",
        "  #Convert to Number Values 0..m-1\n",
        "  for x in range(0, len(data)):\n",
        "    data[x] = symbols.index(data[x])\n",
        "\n",
        "  print(data)\n",
        "\n",
        "  #Decrypt\n",
        "  for x in range(0, len(data)):\n",
        "    data[x] = math.floor((((1/a) * (data[x]- b)) % m))\n",
        "\n",
        "  print(data)\n",
        "  #Convert Numbers to Letters\n",
        "  for x in range(0, len(data)):\n",
        "    data[x] = symbols[data[x]]\n",
        "\n",
        "  return data"
      ],
      "execution_count": 42,
      "outputs": []
    },
    {
      "cell_type": "code",
      "metadata": {
        "id": "fCwir8b8Mza9",
        "colab_type": "code",
        "colab": {}
      },
      "source": [
        "print(((1/23) * (9 - 66)))\n",
        "print(-2.4782608695652173 % 57)\n",
        "print(((1/23) * (9 - 66))% 57)"
      ],
      "execution_count": null,
      "outputs": []
    },
    {
      "cell_type": "code",
      "metadata": {
        "id": "-JC5_gjoGyaW",
        "colab_type": "code",
        "colab": {}
      },
      "source": [
        "m = len(symbols)\n",
        "a = int(input(\"Enter Value For A: \"))  \n",
        "\n",
        "while not is_coprime(a, m):\n",
        "  a = int(input(\"Enter Value For A: \"))\n",
        "\n",
        "b = int(input(\"Enter Value For B: \"))\n",
        "\n",
        "\n",
        "secret_data = \"Hello World\"\n",
        "encrypted_data = affine(secret_data, a, b)\n",
        "encrypted_string = ''.join(encrypted_data)\n",
        "print(\"Encrypted Data: \" + encrypted_string)\n",
        "\n",
        "a = int(input(\"Enter Value For A: \"))  \n",
        "\n",
        "while not is_coprime(a, m):\n",
        "  a = int(input(\"Enter Value For A: \"))\n",
        "\n",
        "b = int(input(\"Enter Value For B: \"))\n",
        "\n",
        "decrypted_data = decrypt_affine(encrypted_string, a, b)\n",
        "decrypted_string = ''.join(decrypted_data)\n",
        "\n",
        "print(\"Decrypted Data: \" + decrypted_string)\n"
      ],
      "execution_count": null,
      "outputs": []
    }
  ]
}