{
  "nbformat": 4,
  "nbformat_minor": 0,
  "metadata": {
    "colab": {
      "name": "Vigenere_Cipher.ipynb",
      "provenance": []
    },
    "kernelspec": {
      "name": "python3",
      "display_name": "Python 3"
    }
  },
  "cells": [
    {
      "cell_type": "markdown",
      "metadata": {
        "id": "C4z4ua1Yh6cb",
        "colab_type": "text"
      },
      "source": [
        "# **Vignere Cipher**\n",
        "---\n",
        "The Vignere Cipher is a polyalphabetic subsituion method based upon an alphanumeric key.\n",
        "\n",
        "\n"
      ]
    },
    {
      "cell_type": "code",
      "metadata": {
        "id": "VOkfWd2_hJPr",
        "colab_type": "code",
        "colab": {}
      },
      "source": [
        "symbols = \"abcdefghijklmnopqrstuvwxyzABCDEFGHIJKLMNOPQRSTUVWXYZ1234567890!.?' \"\n",
        "\n",
        "def encrypt(data, key):\n",
        "  data = list(data)\n",
        "  key = list(key)\n",
        "  for x in range(0, len(data)):\n",
        "    offset = symbols.index(key[(x % len(key))])\n",
        "    if (symbols.index(data[x]) + offset) > len(symbols):\n",
        "      data[x] = symbols[(symbols.index(data[x]) + offset) - len(symbols)]\n",
        "    else:\n",
        "      data[x] =  symbols[(symbols.index(data[x]) + offset)]\n",
        "\n",
        "  data = ''.join(data)\n",
        "  return data\n",
        "\n",
        "def decrypt(data, key):\n",
        "  data = list(data)\n",
        "  key = list(key)\n",
        "  for x in range(0, len(data)):\n",
        "    offset = symbols.index(key[(x % len(key))])\n",
        "    if (symbols.index(data[x]) - offset) < 0:\n",
        "      data[x] = symbols[(symbols.index(data[x]) - offset) + len(symbols)]\n",
        "    else:\n",
        "      data[x] =  symbols[(symbols.index(data[x]) - offset)]\n",
        "\n",
        "  data = ''.join(data)\n",
        "  return data"
      ],
      "execution_count": 4,
      "outputs": []
    },
    {
      "cell_type": "code",
      "metadata": {
        "id": "VNZxoTA2h6NK",
        "colab_type": "code",
        "colab": {
          "base_uri": "https://localhost:8080/",
          "height": 103
        },
        "outputId": "a91cc43e-e38b-4a04-b2ad-073c8ddb905e"
      },
      "source": [
        "#input area\n",
        "secret = input(\"Enter Secret: \")\n",
        "key = input(\"Enter Encryption Key: \")\n",
        "encrypted_data = encrypt(secret, key)\n",
        "print(\"Encrypted Text: \" + encrypted_data)\n",
        "\n",
        "decryption_key = input(\"Enter Decryption Key: \")\n",
        "decrypted_data = decrypt(encrypted_data, decryption_key)\n",
        "print(\"Decrypted Text: \" + decrypted_data)"
      ],
      "execution_count": 10,
      "outputs": [
        {
          "output_type": "stream",
          "text": [
            "Enter Secret: The Quick Brown Fox Jumped Over The Lazy Dog!\n",
            "Enter Encryption Key: W0w9VGUFROTySaMGudUx\n",
            "Encrypted Text: AbA8w13H2NfP7wZFZrcwqoIiZJTe?S!xwhQF6deVVxK Q\n",
            "Enter Decryption Key: W0w9VGUFROTySaMGudUx\n",
            "Decrypted Text: The Quick Brown Fox Jumped Over The Lazy Dog!\n"
          ],
          "name": "stdout"
        }
      ]
    }
  ]
}