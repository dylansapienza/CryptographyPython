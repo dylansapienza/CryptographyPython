{
  "nbformat": 4,
  "nbformat_minor": 0,
  "metadata": {
    "colab": {
      "name": "ReverseCipher",
      "provenance": []
    },
    "kernelspec": {
      "name": "python3",
      "display_name": "Python 3"
    }
  },
  "cells": [
    {
      "cell_type": "markdown",
      "metadata": {
        "id": "d2uIx3gHJkYB",
        "colab_type": "text"
      },
      "source": [
        "# **Reverse Cipher**\n",
        "A very rudimentary encryption method. Reversal method puts every character in backwards order. To decrypt, simply just run the reversal encryption again."
      ]
    },
    {
      "cell_type": "code",
      "metadata": {
        "id": "ar2rakHMHMvC",
        "colab_type": "code",
        "colab": {}
      },
      "source": [
        "def reversal(data):\n",
        "  array_data = list(data)\n",
        "  encrypted_data = \"\"\n",
        "  for x in range(1, len(array_data)+1):\n",
        "    encrypted_data += array_data[len(array_data) - x]\n",
        "\n",
        "  return encrypted_data"
      ],
      "execution_count": 12,
      "outputs": []
    },
    {
      "cell_type": "code",
      "metadata": {
        "id": "jQwmFKfxIMA8",
        "colab_type": "code",
        "colab": {
          "base_uri": "https://localhost:8080/",
          "height": 68
        },
        "outputId": "0210af4e-2e65-4df0-d78c-3e51035b66d8"
      },
      "source": [
        "data = input(\"Enter Secret: \")\n",
        "encrpyted = reversal(data)\n",
        "\n",
        "print(\"Encrypted Data: \" + encrpyted)\n",
        "\n",
        "print(\"Decrypted Data: \" + reversal(encrpyted))"
      ],
      "execution_count": 15,
      "outputs": [
        {
          "output_type": "stream",
          "text": [
            "Enter Secret: Let's see whay you got\n",
            "Encrypted Data: tog uoy yahw ees s'teL\n",
            "Decrypted Data: Let's see whay you got\n"
          ],
          "name": "stdout"
        }
      ]
    }
  ]
}